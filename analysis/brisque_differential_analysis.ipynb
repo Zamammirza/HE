{
 "cells": [
  {
   "cell_type": "code",
   "execution_count": 1,
   "id": "3bddbfbc-a6ab-494b-8ada-8bab6fcc4dd8",
   "metadata": {},
   "outputs": [],
   "source": [
    "import numpy as np\n",
    "import pandas as pd\n",
    "import matplotlib.pyplot as plt"
   ]
  },
  {
   "cell_type": "code",
   "execution_count": 6,
   "id": "83a43984-7e9a-4812-8075-0da90457b9be",
   "metadata": {},
   "outputs": [
    {
     "data": {
      "text/html": [
       "<div>\n",
       "<style scoped>\n",
       "    .dataframe tbody tr th:only-of-type {\n",
       "        vertical-align: middle;\n",
       "    }\n",
       "\n",
       "    .dataframe tbody tr th {\n",
       "        vertical-align: top;\n",
       "    }\n",
       "\n",
       "    .dataframe thead th {\n",
       "        text-align: right;\n",
       "    }\n",
       "</style>\n",
       "<table border=\"1\" class=\"dataframe\">\n",
       "  <thead>\n",
       "    <tr style=\"text-align: right;\">\n",
       "      <th></th>\n",
       "      <th>algorithm</th>\n",
       "      <th>original_filename</th>\n",
       "      <th>score</th>\n",
       "    </tr>\n",
       "  </thead>\n",
       "  <tbody>\n",
       "    <tr>\n",
       "      <th>0</th>\n",
       "      <td>bbhe</td>\n",
       "      <td>MuzYhuKsV6.png</td>\n",
       "      <td>6.516089</td>\n",
       "    </tr>\n",
       "    <tr>\n",
       "      <th>1</th>\n",
       "      <td>bbhe</td>\n",
       "      <td>7OKvzizH.png</td>\n",
       "      <td>0.000000</td>\n",
       "    </tr>\n",
       "    <tr>\n",
       "      <th>2</th>\n",
       "      <td>bbhe</td>\n",
       "      <td>eD80tfb0.png</td>\n",
       "      <td>24.037924</td>\n",
       "    </tr>\n",
       "    <tr>\n",
       "      <th>3</th>\n",
       "      <td>bbhe</td>\n",
       "      <td>1UXZfhm4.png</td>\n",
       "      <td>4.364923</td>\n",
       "    </tr>\n",
       "    <tr>\n",
       "      <th>4</th>\n",
       "      <td>bbhe</td>\n",
       "      <td>VaD7nRZa.png</td>\n",
       "      <td>23.151558</td>\n",
       "    </tr>\n",
       "    <tr>\n",
       "      <th>...</th>\n",
       "      <td>...</td>\n",
       "      <td>...</td>\n",
       "      <td>...</td>\n",
       "    </tr>\n",
       "    <tr>\n",
       "      <th>791</th>\n",
       "      <td>clahe</td>\n",
       "      <td>76jFmOA9.png</td>\n",
       "      <td>11.859232</td>\n",
       "    </tr>\n",
       "    <tr>\n",
       "      <th>792</th>\n",
       "      <td>clahe</td>\n",
       "      <td>jb2OPpkq.png</td>\n",
       "      <td>30.489128</td>\n",
       "    </tr>\n",
       "    <tr>\n",
       "      <th>793</th>\n",
       "      <td>clahe</td>\n",
       "      <td>w76UyAAA.png</td>\n",
       "      <td>23.309658</td>\n",
       "    </tr>\n",
       "    <tr>\n",
       "      <th>794</th>\n",
       "      <td>clahe</td>\n",
       "      <td>imyyw77u.png</td>\n",
       "      <td>26.695061</td>\n",
       "    </tr>\n",
       "    <tr>\n",
       "      <th>795</th>\n",
       "      <td>clahe</td>\n",
       "      <td>xadCi5HBxc.png</td>\n",
       "      <td>4.687501</td>\n",
       "    </tr>\n",
       "  </tbody>\n",
       "</table>\n",
       "<p>796 rows × 3 columns</p>\n",
       "</div>"
      ],
      "text/plain": [
       "    algorithm original_filename      score\n",
       "0        bbhe    MuzYhuKsV6.png   6.516089\n",
       "1        bbhe      7OKvzizH.png   0.000000\n",
       "2        bbhe      eD80tfb0.png  24.037924\n",
       "3        bbhe      1UXZfhm4.png   4.364923\n",
       "4        bbhe      VaD7nRZa.png  23.151558\n",
       "..        ...               ...        ...\n",
       "791     clahe      76jFmOA9.png  11.859232\n",
       "792     clahe      jb2OPpkq.png  30.489128\n",
       "793     clahe      w76UyAAA.png  23.309658\n",
       "794     clahe      imyyw77u.png  26.695061\n",
       "795     clahe    xadCi5HBxc.png   4.687501\n",
       "\n",
       "[796 rows x 3 columns]"
      ]
     },
     "execution_count": 6,
     "metadata": {},
     "output_type": "execute_result"
    }
   ],
   "source": [
    "df = pd.read_csv('../results/brisque_scores.csv')\n",
    "df"
   ]
  },
  {
   "cell_type": "code",
   "execution_count": 10,
   "id": "edc9d9e8-4fe3-43b8-8353-0377a912d54f",
   "metadata": {},
   "outputs": [
    {
     "data": {
      "text/plain": [
       "199"
      ]
     },
     "execution_count": 10,
     "metadata": {},
     "output_type": "execute_result"
    }
   ],
   "source": [
    "# unique original filenames\n",
    "fns = pd.unique(df.original_filename)\n",
    "fns.size"
   ]
  },
  {
   "cell_type": "code",
   "execution_count": 12,
   "id": "5bb951f0-aaf1-44c2-8ee8-c13108abcddb",
   "metadata": {},
   "outputs": [
    {
     "name": "stdout",
     "output_type": "stream",
     "text": [
      "0 2\n",
      "1 3\n",
      "2 4\n"
     ]
    }
   ],
   "source": [
    "for i, j in enumerate(range(2,5)):\n",
    "    print(i, j)"
   ]
  },
  {
   "cell_type": "code",
   "execution_count": 37,
   "id": "6d18c084-f8c9-4634-9b1b-ba7ea01aa521",
   "metadata": {},
   "outputs": [
    {
     "ename": "KeyError",
     "evalue": "2",
     "output_type": "error",
     "traceback": [
      "\u001b[0;31m---------------------------------------------------------------------------\u001b[0m",
      "\u001b[0;31mKeyError\u001b[0m                                  Traceback (most recent call last)",
      "File \u001b[0;32m~/.cache/pypoetry/virtualenvs/ivp-ws21-histo-eq-fONMND2O-py3.9/lib/python3.9/site-packages/pandas/core/indexes/base.py:3361\u001b[0m, in \u001b[0;36mIndex.get_loc\u001b[0;34m(self, key, method, tolerance)\u001b[0m\n\u001b[1;32m   3360\u001b[0m \u001b[38;5;28;01mtry\u001b[39;00m:\n\u001b[0;32m-> 3361\u001b[0m     \u001b[38;5;28;01mreturn\u001b[39;00m \u001b[38;5;28;43mself\u001b[39;49m\u001b[38;5;241;43m.\u001b[39;49m\u001b[43m_engine\u001b[49m\u001b[38;5;241;43m.\u001b[39;49m\u001b[43mget_loc\u001b[49m\u001b[43m(\u001b[49m\u001b[43mcasted_key\u001b[49m\u001b[43m)\u001b[49m\n\u001b[1;32m   3362\u001b[0m \u001b[38;5;28;01mexcept\u001b[39;00m \u001b[38;5;167;01mKeyError\u001b[39;00m \u001b[38;5;28;01mas\u001b[39;00m err:\n",
      "File \u001b[0;32m~/.cache/pypoetry/virtualenvs/ivp-ws21-histo-eq-fONMND2O-py3.9/lib/python3.9/site-packages/pandas/_libs/index.pyx:76\u001b[0m, in \u001b[0;36mpandas._libs.index.IndexEngine.get_loc\u001b[0;34m()\u001b[0m\n",
      "File \u001b[0;32m~/.cache/pypoetry/virtualenvs/ivp-ws21-histo-eq-fONMND2O-py3.9/lib/python3.9/site-packages/pandas/_libs/index.pyx:108\u001b[0m, in \u001b[0;36mpandas._libs.index.IndexEngine.get_loc\u001b[0;34m()\u001b[0m\n",
      "File \u001b[0;32mpandas/_libs/hashtable_class_helper.pxi:5198\u001b[0m, in \u001b[0;36mpandas._libs.hashtable.PyObjectHashTable.get_item\u001b[0;34m()\u001b[0m\n",
      "File \u001b[0;32mpandas/_libs/hashtable_class_helper.pxi:5206\u001b[0m, in \u001b[0;36mpandas._libs.hashtable.PyObjectHashTable.get_item\u001b[0;34m()\u001b[0m\n",
      "\u001b[0;31mKeyError\u001b[0m: 2",
      "\nThe above exception was the direct cause of the following exception:\n",
      "\u001b[0;31mKeyError\u001b[0m                                  Traceback (most recent call last)",
      "Input \u001b[0;32mIn [37]\u001b[0m, in \u001b[0;36m<module>\u001b[0;34m\u001b[0m\n\u001b[0;32m----> 1\u001b[0m \u001b[43mdf\u001b[49m\u001b[43m[\u001b[49m\u001b[38;5;241;43m2\u001b[39;49m\u001b[43m]\u001b[49m\n",
      "File \u001b[0;32m~/.cache/pypoetry/virtualenvs/ivp-ws21-histo-eq-fONMND2O-py3.9/lib/python3.9/site-packages/pandas/core/frame.py:3458\u001b[0m, in \u001b[0;36mDataFrame.__getitem__\u001b[0;34m(self, key)\u001b[0m\n\u001b[1;32m   3456\u001b[0m \u001b[38;5;28;01mif\u001b[39;00m \u001b[38;5;28mself\u001b[39m\u001b[38;5;241m.\u001b[39mcolumns\u001b[38;5;241m.\u001b[39mnlevels \u001b[38;5;241m>\u001b[39m \u001b[38;5;241m1\u001b[39m:\n\u001b[1;32m   3457\u001b[0m     \u001b[38;5;28;01mreturn\u001b[39;00m \u001b[38;5;28mself\u001b[39m\u001b[38;5;241m.\u001b[39m_getitem_multilevel(key)\n\u001b[0;32m-> 3458\u001b[0m indexer \u001b[38;5;241m=\u001b[39m \u001b[38;5;28;43mself\u001b[39;49m\u001b[38;5;241;43m.\u001b[39;49m\u001b[43mcolumns\u001b[49m\u001b[38;5;241;43m.\u001b[39;49m\u001b[43mget_loc\u001b[49m\u001b[43m(\u001b[49m\u001b[43mkey\u001b[49m\u001b[43m)\u001b[49m\n\u001b[1;32m   3459\u001b[0m \u001b[38;5;28;01mif\u001b[39;00m is_integer(indexer):\n\u001b[1;32m   3460\u001b[0m     indexer \u001b[38;5;241m=\u001b[39m [indexer]\n",
      "File \u001b[0;32m~/.cache/pypoetry/virtualenvs/ivp-ws21-histo-eq-fONMND2O-py3.9/lib/python3.9/site-packages/pandas/core/indexes/base.py:3363\u001b[0m, in \u001b[0;36mIndex.get_loc\u001b[0;34m(self, key, method, tolerance)\u001b[0m\n\u001b[1;32m   3361\u001b[0m         \u001b[38;5;28;01mreturn\u001b[39;00m \u001b[38;5;28mself\u001b[39m\u001b[38;5;241m.\u001b[39m_engine\u001b[38;5;241m.\u001b[39mget_loc(casted_key)\n\u001b[1;32m   3362\u001b[0m     \u001b[38;5;28;01mexcept\u001b[39;00m \u001b[38;5;167;01mKeyError\u001b[39;00m \u001b[38;5;28;01mas\u001b[39;00m err:\n\u001b[0;32m-> 3363\u001b[0m         \u001b[38;5;28;01mraise\u001b[39;00m \u001b[38;5;167;01mKeyError\u001b[39;00m(key) \u001b[38;5;28;01mfrom\u001b[39;00m \u001b[38;5;21;01merr\u001b[39;00m\n\u001b[1;32m   3365\u001b[0m \u001b[38;5;28;01mif\u001b[39;00m is_scalar(key) \u001b[38;5;129;01mand\u001b[39;00m isna(key) \u001b[38;5;129;01mand\u001b[39;00m \u001b[38;5;129;01mnot\u001b[39;00m \u001b[38;5;28mself\u001b[39m\u001b[38;5;241m.\u001b[39mhasnans:\n\u001b[1;32m   3366\u001b[0m     \u001b[38;5;28;01mraise\u001b[39;00m \u001b[38;5;167;01mKeyError\u001b[39;00m(key)\n",
      "\u001b[0;31mKeyError\u001b[0m: 2"
     ]
    }
   ],
   "source": [
    "df[2]"
   ]
  },
  {
   "cell_type": "code",
   "execution_count": 46,
   "id": "0252dc4d-f4c3-4223-aa4c-6ad6cb2ef91e",
   "metadata": {},
   "outputs": [
    {
     "data": {
      "text/html": [
       "<div>\n",
       "<style scoped>\n",
       "    .dataframe tbody tr th:only-of-type {\n",
       "        vertical-align: middle;\n",
       "    }\n",
       "\n",
       "    .dataframe tbody tr th {\n",
       "        vertical-align: top;\n",
       "    }\n",
       "\n",
       "    .dataframe thead th {\n",
       "        text-align: right;\n",
       "    }\n",
       "</style>\n",
       "<table border=\"1\" class=\"dataframe\">\n",
       "  <thead>\n",
       "    <tr style=\"text-align: right;\">\n",
       "      <th></th>\n",
       "      <th>algorithm</th>\n",
       "      <th>original_filename</th>\n",
       "      <th>score</th>\n",
       "    </tr>\n",
       "  </thead>\n",
       "  <tbody>\n",
       "    <tr>\n",
       "      <th>0</th>\n",
       "      <td>bbhe</td>\n",
       "      <td>MuzYhuKsV6.png</td>\n",
       "      <td>6.516089</td>\n",
       "    </tr>\n",
       "    <tr>\n",
       "      <th>228</th>\n",
       "      <td>splinet</td>\n",
       "      <td>MuzYhuKsV6.png</td>\n",
       "      <td>0.890449</td>\n",
       "    </tr>\n",
       "    <tr>\n",
       "      <th>454</th>\n",
       "      <td>no_processing</td>\n",
       "      <td>MuzYhuKsV6.png</td>\n",
       "      <td>5.533060</td>\n",
       "    </tr>\n",
       "    <tr>\n",
       "      <th>597</th>\n",
       "      <td>clahe</td>\n",
       "      <td>MuzYhuKsV6.png</td>\n",
       "      <td>15.793130</td>\n",
       "    </tr>\n",
       "  </tbody>\n",
       "</table>\n",
       "</div>"
      ],
      "text/plain": [
       "         algorithm original_filename      score\n",
       "0             bbhe    MuzYhuKsV6.png   6.516089\n",
       "228        splinet    MuzYhuKsV6.png   0.890449\n",
       "454  no_processing    MuzYhuKsV6.png   5.533060\n",
       "597          clahe    MuzYhuKsV6.png  15.793130"
      ]
     },
     "execution_count": 46,
     "metadata": {},
     "output_type": "execute_result"
    }
   ],
   "source": [
    "rows = df.query('original_filename==\"MuzYhuKsV6.png\"')\n",
    "rows"
   ]
  },
  {
   "cell_type": "code",
   "execution_count": 148,
   "id": "50111b04-a3cf-4a94-9413-aa8914716e18",
   "metadata": {},
   "outputs": [
    {
     "data": {
      "text/html": [
       "<div>\n",
       "<style scoped>\n",
       "    .dataframe tbody tr th:only-of-type {\n",
       "        vertical-align: middle;\n",
       "    }\n",
       "\n",
       "    .dataframe tbody tr th {\n",
       "        vertical-align: top;\n",
       "    }\n",
       "\n",
       "    .dataframe thead th {\n",
       "        text-align: right;\n",
       "    }\n",
       "</style>\n",
       "<table border=\"1\" class=\"dataframe\">\n",
       "  <thead>\n",
       "    <tr style=\"text-align: right;\">\n",
       "      <th></th>\n",
       "      <th>original_filename</th>\n",
       "      <th>bbhe</th>\n",
       "      <th>clahe</th>\n",
       "      <th>splinet</th>\n",
       "      <th>no_processing</th>\n",
       "    </tr>\n",
       "  </thead>\n",
       "  <tbody>\n",
       "    <tr>\n",
       "      <th>0</th>\n",
       "      <td>MuzYhuKsV6.png</td>\n",
       "      <td>0.983030</td>\n",
       "      <td>10.260070</td>\n",
       "      <td>-4.642611</td>\n",
       "      <td>5.533060</td>\n",
       "    </tr>\n",
       "    <tr>\n",
       "      <th>1</th>\n",
       "      <td>7OKvzizH.png</td>\n",
       "      <td>-8.826059</td>\n",
       "      <td>-6.290877</td>\n",
       "      <td>-8.826059</td>\n",
       "      <td>8.826059</td>\n",
       "    </tr>\n",
       "    <tr>\n",
       "      <th>2</th>\n",
       "      <td>eD80tfb0.png</td>\n",
       "      <td>6.734516</td>\n",
       "      <td>15.969915</td>\n",
       "      <td>1.853905</td>\n",
       "      <td>17.303408</td>\n",
       "    </tr>\n",
       "    <tr>\n",
       "      <th>3</th>\n",
       "      <td>1UXZfhm4.png</td>\n",
       "      <td>-18.782008</td>\n",
       "      <td>-23.146931</td>\n",
       "      <td>-13.262877</td>\n",
       "      <td>23.146931</td>\n",
       "    </tr>\n",
       "    <tr>\n",
       "      <th>4</th>\n",
       "      <td>VaD7nRZa.png</td>\n",
       "      <td>8.863526</td>\n",
       "      <td>13.351562</td>\n",
       "      <td>6.731551</td>\n",
       "      <td>14.288032</td>\n",
       "    </tr>\n",
       "    <tr>\n",
       "      <th>...</th>\n",
       "      <td>...</td>\n",
       "      <td>...</td>\n",
       "      <td>...</td>\n",
       "      <td>...</td>\n",
       "      <td>...</td>\n",
       "    </tr>\n",
       "    <tr>\n",
       "      <th>194</th>\n",
       "      <td>pqpowjWytV.png</td>\n",
       "      <td>-3.604475</td>\n",
       "      <td>8.670029</td>\n",
       "      <td>1.876734</td>\n",
       "      <td>9.648346</td>\n",
       "    </tr>\n",
       "    <tr>\n",
       "      <th>195</th>\n",
       "      <td>1432.png</td>\n",
       "      <td>0.000000</td>\n",
       "      <td>17.039295</td>\n",
       "      <td>6.722821</td>\n",
       "      <td>0.000000</td>\n",
       "    </tr>\n",
       "    <tr>\n",
       "      <th>196</th>\n",
       "      <td>j1xXEzjl.png</td>\n",
       "      <td>-1.137733</td>\n",
       "      <td>19.319182</td>\n",
       "      <td>-1.058340</td>\n",
       "      <td>3.754857</td>\n",
       "    </tr>\n",
       "    <tr>\n",
       "      <th>197</th>\n",
       "      <td>tOdxgRa3.png</td>\n",
       "      <td>-13.854807</td>\n",
       "      <td>-19.835863</td>\n",
       "      <td>-10.607350</td>\n",
       "      <td>19.835863</td>\n",
       "    </tr>\n",
       "    <tr>\n",
       "      <th>198</th>\n",
       "      <td>SmVALmIE.png</td>\n",
       "      <td>-0.963570</td>\n",
       "      <td>0.791334</td>\n",
       "      <td>-5.750170</td>\n",
       "      <td>23.841831</td>\n",
       "    </tr>\n",
       "  </tbody>\n",
       "</table>\n",
       "<p>199 rows × 5 columns</p>\n",
       "</div>"
      ],
      "text/plain": [
       "    original_filename       bbhe      clahe    splinet  no_processing\n",
       "0      MuzYhuKsV6.png   0.983030  10.260070  -4.642611       5.533060\n",
       "1        7OKvzizH.png  -8.826059  -6.290877  -8.826059       8.826059\n",
       "2        eD80tfb0.png   6.734516  15.969915   1.853905      17.303408\n",
       "3        1UXZfhm4.png -18.782008 -23.146931 -13.262877      23.146931\n",
       "4        VaD7nRZa.png   8.863526  13.351562   6.731551      14.288032\n",
       "..                ...        ...        ...        ...            ...\n",
       "194    pqpowjWytV.png  -3.604475   8.670029   1.876734       9.648346\n",
       "195          1432.png   0.000000  17.039295   6.722821       0.000000\n",
       "196      j1xXEzjl.png  -1.137733  19.319182  -1.058340       3.754857\n",
       "197      tOdxgRa3.png -13.854807 -19.835863 -10.607350      19.835863\n",
       "198      SmVALmIE.png  -0.963570   0.791334  -5.750170      23.841831\n",
       "\n",
       "[199 rows x 5 columns]"
      ]
     },
     "execution_count": 148,
     "metadata": {},
     "output_type": "execute_result"
    }
   ],
   "source": [
    "diff = pd.DataFrame(columns=[\"original_filename\", \"bbhe\", \"clahe\", \"splinet\", \"no_processing\"])\n",
    "# the algorithm columns are deltas compared to no_processing\n",
    "for i, fn in enumerate(fns):\n",
    "    rows = df.query('original_filename==@fn')\n",
    "    np_score = rows[rows.algorithm == \"no_processing\"].score.iloc[0]\n",
    "    result = {\n",
    "        \"original_filename\": fn,\n",
    "        \"bbhe\": rows.query('algorithm==\"bbhe\"').score.iloc[0] - np_score,\n",
    "        \"clahe\": rows.query('algorithm==\"clahe\"').score.iloc[0] - np_score,\n",
    "        \"splinet\": rows.query('algorithm==\"splinet\"').score.iloc[0] - np_score,\n",
    "         \"no_processing\": np_score,\n",
    "    }\n",
    "    diff = diff.append(result, ignore_index=True)\n",
    "diff"
   ]
  },
  {
   "cell_type": "code",
   "execution_count": 167,
   "id": "e9908f46-63b2-4cb0-9571-fed8a824525d",
   "metadata": {},
   "outputs": [
    {
     "data": {
      "image/png": "[encoded data removed]",
      "text/plain": [
       "<Figure size 230.4x158.4 with 1 Axes>"
      ]
     },
     "metadata": {
      "needs_background": "light"
     },
     "output_type": "display_data"
    }
   ],
   "source": [
    "algos = [\"bbhe\", \"clahe\", \"splinet\"]\n",
    "plt.figure(figsize=(3.2, 2.2))\n",
    "plt.violinplot(diff[algos], showmedians=True)\n",
    "plt.minorticks_on()\n",
    "plt.grid(which=\"major\", zorder=0)\n",
    "plt.grid(which=\"minor\", linestyle=\":\", linewidth=.4, zorder=0)\n",
    "#plt.axhline(color=\"black\", linewidth=1, zorder=1.6)\n",
    "plt.xticks(ticks=range(1, 4), labels=[\"BBHE\", \"CLAHE\", \"SpliNet\"], fontsize=8)\n",
    "plt.xlabel(\"Algorithm\", fontsize=8)\n",
    "plt.ylabel(\"Change in BRISQUE\", fontsize=8)\n",
    "plt.tight_layout()\n",
    "plt.savefig(\"diff_violin.pdf\")"
   ]
  },
  {
   "cell_type": "code",
   "execution_count": 169,
   "id": "a2c0b8f3-57c1-4be6-bd5b-fdcc4109acc4",
   "metadata": {},
   "outputs": [
    {
     "data": {
      "text/plain": [
       "<matplotlib.legend.Legend at 0x7f7e49e4f0a0>"
      ]
     },
     "execution_count": 169,
     "metadata": {},
     "output_type": "execute_result"
    },
    {
     "data": {
      "image/png": "[encoded data removed]",
      "text/plain": [
       "<Figure size 432x288 with 1 Axes>"
      ]
     },
     "metadata": {
      "needs_background": "light"
     },
     "output_type": "display_data"
    }
   ],
   "source": [
    "for algo in algos:\n",
    "    plt.scatter(diff.no_processing, diff[algo], marker=\".\", label=algo)\n",
    "plt.minorticks_on()\n",
    "plt.grid(which=\"major\", zorder=0)\n",
    "plt.grid(which=\"minor\", linestyle=\":\", linewidth=.4, zorder=0)\n",
    "plt.xlabel(\"BRISQUE without Processing\")\n",
    "plt.ylabel(\"Change in BRISQUE\")\n",
    "plt.legend()"
   ]
  },
  {
   "cell_type": "code",
   "execution_count": 158,
   "id": "ed82c9ad-226c-476a-867b-e7444fe6b1c0",
   "metadata": {},
   "outputs": [
    {
     "data": {
      "text/plain": [
       "<matplotlib.legend.Legend at 0x7f7e4981eeb0>"
      ]
     },
     "execution_count": 158,
     "metadata": {},
     "output_type": "execute_result"
    },
    {
     "data": {
      "image/png": "[encoded data removed]",
      "text/plain": [
       "<Figure size 432x288 with 1 Axes>"
      ]
     },
     "metadata": {
      "needs_background": "light"
     },
     "output_type": "display_data"
    }
   ],
   "source": [
    "for algo in [\"bbhe\"]:\n",
    "    plt.scatter(diff.no_processing, diff[algo], label=algo)\n",
    "plt.minorticks_on()\n",
    "plt.grid(which=\"major\", zorder=0)\n",
    "plt.grid(which=\"minor\", linestyle=\":\", linewidth=.4, zorder=0)\n",
    "plt.xlabel(\"BRISQUE without Processing\")\n",
    "plt.ylabel(\"Change in BRISQUE\")\n",
    "plt.legend()"
   ]
  },
  {
   "cell_type": "code",
   "execution_count": 159,
   "id": "6c8d151f-b121-4740-bfe8-062e8cf2667b",
   "metadata": {},
   "outputs": [
    {
     "data": {
      "text/plain": [
       "<matplotlib.legend.Legend at 0x7f7e498967c0>"
      ]
     },
     "execution_count": 159,
     "metadata": {},
     "output_type": "execute_result"
    },
    {
     "data": {
      "image/png": "[encoded data removed]",
      "text/plain": [
       "<Figure size 432x288 with 1 Axes>"
      ]
     },
     "metadata": {
      "needs_background": "light"
     },
     "output_type": "display_data"
    }
   ],
   "source": [
    "for algo in [\"clahe\"]:\n",
    "    plt.scatter(diff.no_processing, diff[algo], label=algo)\n",
    "plt.minorticks_on()\n",
    "plt.grid(which=\"major\", zorder=0)\n",
    "plt.grid(which=\"minor\", linestyle=\":\", linewidth=.4, zorder=0)\n",
    "plt.xlabel(\"BRISQUE without Processing\")\n",
    "plt.ylabel(\"Change in BRISQUE\")\n",
    "plt.legend()"
   ]
  },
  {
   "cell_type": "code",
   "execution_count": 164,
   "id": "ba2184b1-7ff1-4813-8953-2a4b6c9c760f",
   "metadata": {},
   "outputs": [
    {
     "name": "stdout",
     "output_type": "stream",
     "text": [
      "PCC:  [[ 1.         -0.04475986]\n",
      " [-0.04475986  1.        ]]\n"
     ]
    },
    {
     "data": {
      "text/plain": [
       "<matplotlib.legend.Legend at 0x7f7e4be2eb50>"
      ]
     },
     "execution_count": 164,
     "metadata": {},
     "output_type": "execute_result"
    },
    {
     "data": {
      "image/png": "[encoded data removed]",
      "text/plain": [
       "<Figure size 432x288 with 1 Axes>"
      ]
     },
     "metadata": {
      "needs_background": "light"
     },
     "output_type": "display_data"
    }
   ],
   "source": [
    "for algo in [\"splinet\"]:\n",
    "    plt.scatter(diff.no_processing.values, diff[algo], label=algo)\n",
    "    print(\"PCC: \", np.corrcoef(diff.no_processing.values, diff[algo].values))\n",
    "plt.minorticks_on()\n",
    "plt.grid(which=\"major\", zorder=0)\n",
    "plt.grid(which=\"minor\", linestyle=\":\", linewidth=.4, zorder=0)\n",
    "plt.xlabel(\"BRISQUE without Processing\")\n",
    "plt.ylabel(\"Change in BRISQUE\")\n",
    "plt.legend()"
   ]
  },
  {
   "cell_type": "code",
   "execution_count": 165,
   "id": "b80565e8-1bf4-4050-849d-20af034c4cdd",
   "metadata": {},
   "outputs": [
    {
     "data": {
      "text/plain": [
       "array([-4.64261085e+00, -8.82605934e+00,  1.85390472e+00, -1.32628775e+01,\n",
       "        6.73155117e+00,  2.78499985e+00, -1.11616626e+01, -5.24102783e+00,\n",
       "        4.91453648e+00, -7.23553467e+00, -7.48917675e+00,  1.29599857e+00,\n",
       "        6.58800125e-01, -8.62315178e-01, -2.30082130e+00,  2.12649345e+00,\n",
       "       -2.52467346e+00, -1.06922147e+01,  9.06065655e+00,  1.06855392e+01,\n",
       "       -6.41997719e+00,  3.98710251e+00, -3.40743637e+00,  7.88905716e+00,\n",
       "        1.79534340e+00, -2.79751587e+00,  3.24069595e+00,  2.85346413e+00,\n",
       "       -1.27420793e+01,  0.00000000e+00, -3.13235092e+00, -2.29487801e+00,\n",
       "       -5.57505035e+00,  1.12211924e+01, -1.47947931e+00,  8.68194580e-01,\n",
       "       -3.92455864e+00,  9.75724792e+00,  2.80029869e+00, -1.24886300e+01,\n",
       "       -1.32271261e+01,  1.12274513e+01, -1.38637562e+01, -8.07093239e+00,\n",
       "        0.00000000e+00, -4.36035061e+00,  7.11992216e+00, -9.97150284e+00,\n",
       "        1.52972412e+00, -2.34097481e+00,  2.56887436e-01, -2.22488689e+00,\n",
       "        4.27152252e+00,  9.96052361e+00, -7.52057362e+00, -6.13814640e+00,\n",
       "       -2.96732694e-01, -6.55464458e+00, -1.18494625e+01, -7.57536840e+00,\n",
       "       -1.86541443e+01, -1.89232635e+00,  1.54902458e+00,  6.51909828e+00,\n",
       "       -3.18009663e+00, -5.36471844e+00, -8.45872879e-01, -2.40035248e+01,\n",
       "        0.00000000e+00,  4.19906807e+00, -8.98555946e+00,  0.00000000e+00,\n",
       "        4.45117512e+01, -3.46805477e+00,  0.00000000e+00,  0.00000000e+00,\n",
       "       -4.88118362e+00, -6.68751717e+00,  5.71231842e+00, -1.31120777e+00,\n",
       "        1.59508171e+01,  9.84949493e+00, -1.79115143e+01, -5.94080162e+00,\n",
       "       -7.82363701e+00, -2.91987419e+00, -1.09703145e+01, -6.27649307e+00,\n",
       "       -3.37118912e+00, -3.16016388e+00, -8.11665630e+00, -1.39775860e+00,\n",
       "        3.64942813e+00,  2.76244736e+00, -6.97427654e+00, -2.87677670e+00,\n",
       "        2.73624420e+00,  3.08346558e+00,  1.21171403e+01, -2.65244694e+01,\n",
       "        1.27476578e+01,  5.58956146e-01,  1.05450687e+01,  1.95029259e+00,\n",
       "        3.51577950e+00, -9.06100273e+00,  1.17841015e+01, -1.31465712e+01,\n",
       "        6.72407532e+00, -4.97708082e+00, -9.82712150e-01, -1.64243317e+00,\n",
       "        6.49170017e+00,  3.05427551e+00,  2.41097260e+00,  3.48307800e+00,\n",
       "        6.99056625e-01, -1.42115679e+01, -1.05876446e-01, -8.09649849e+00,\n",
       "        3.41157055e+00, -2.32840657e+00,  4.54724693e+00,  7.36796951e+00,\n",
       "       -3.23186684e+00,  8.53847694e+00, -3.27782440e+00, -2.90074348e-02,\n",
       "       -5.53293133e+00, -2.36898184e+00,  1.63007355e+00,  5.12468767e+00,\n",
       "        2.60538197e+00,  8.52552843e+00,  4.68443680e+00, -1.43501282e-01,\n",
       "       -7.36656690e+00,  2.00273895e+00, -3.56598854e+00, -4.22931004e+00,\n",
       "       -3.43781948e+00,  6.89711380e+00,  3.99421692e-01, -3.99052727e+00,\n",
       "        1.34077997e+01,  0.00000000e+00, -8.93116951e+00,  4.18514442e+00,\n",
       "        5.57183266e+00, -8.25076103e+00, -5.43233967e+00, -7.97485352e-01,\n",
       "       -6.11208153e+00,  1.30421181e+01,  0.00000000e+00,  2.92673492e+00,\n",
       "       -3.05941582e+00, -2.96006680e+00, -8.49604845e+00, -2.82182503e+00,\n",
       "       -4.95578384e+00, -4.75936890e+00, -2.70927429e-01, -1.16201038e+01,\n",
       "        1.38179417e+01,  1.53135159e+01, -1.77835798e+00, -7.43807793e+00,\n",
       "        9.82507133e+00, -1.03047109e+01, -3.54345918e+00, -2.51117086e+00,\n",
       "       -1.82610416e+00, -2.12557030e+00, -8.09523535e+00,  6.42052078e+00,\n",
       "       -3.77158546e+00,  5.72723770e+00, -2.36605239e+00, -1.02020979e+01,\n",
       "       -1.26288848e+01,  0.00000000e+00,  1.95525742e+00,  6.73155117e+00,\n",
       "       -1.84581852e+00,  0.00000000e+00, -1.86181355e+00, -8.05250168e-01,\n",
       "       -2.84158230e+00, -2.63674395e+00,  2.53659439e+00, -7.70857811e-01,\n",
       "       -1.89792008e+01,  0.00000000e+00,  1.87673378e+00,  6.72282124e+00,\n",
       "       -1.05833983e+00, -1.06073503e+01, -5.75016975e+00])"
      ]
     },
     "execution_count": 165,
     "metadata": {},
     "output_type": "execute_result"
    }
   ],
   "source": [
    "diff[\"splinet\"].values"
   ]
  },
  {
   "cell_type": "code",
   "execution_count": 162,
   "id": "efbf5154-609d-443f-a0d2-bf1aacd42bd5",
   "metadata": {},
   "outputs": [
    {
     "data": {
      "text/plain": [
       "array([ 5.5330596 ,  8.82605934, 17.30340767, 23.14693069, 14.28803158,\n",
       "        8.77928448, 16.86074448,  5.24102783,  8.49651527, 12.91219425,\n",
       "       12.43495846, 10.46321392,  9.91739273,  4.55589485, 19.78403854,\n",
       "       19.97964859, 21.37472725, 13.37433243,  9.90290737, 22.31869125,\n",
       "        6.41997719,  8.01631641, 12.52820587, 31.22040176, 27.61091042,\n",
       "       24.54765129, 21.1883297 , 29.94454002, 17.89613533,  0.        ,\n",
       "       18.01314545,  9.97697449, 13.62882519, 10.02481937,  1.47947931,\n",
       "       15.77318382, 16.6953125 , 29.54921722, 25.53157043, 12.70861053,\n",
       "       20.07380676, 26.61347961, 26.64748383,  8.07093239,  0.        ,\n",
       "        9.50795269,  2.58240366, 10.37213898, 29.85995102, 32.33657074,\n",
       "       25.74795532, 14.49199009, 65.3431015 ,  0.        , 18.97118759,\n",
       "        6.1381464 ,  0.29673269, 20.96677017, 11.84946251, 12.35824394,\n",
       "       18.65414429, 19.94008636, 12.23077488, 12.81165314, 12.8543787 ,\n",
       "        9.26542187, 11.53063297, 32.90005875,  0.        , 20.87530708,\n",
       "       24.16881371,  0.        , 11.04868126,  7.35842514,  0.        ,\n",
       "        0.        , 15.06620884, 36.60072708, 20.21089363, 16.30255127,\n",
       "       27.23241806, 17.45056915, 17.91151428, 17.75137329, 25.16380501,\n",
       "        8.17493153, 15.2815237 , 17.86000061, 41.462677  , 17.14398766,\n",
       "        8.1166563 ,  1.3977586 ,  2.66115737, 18.16966629, 20.55072403,\n",
       "       14.72412872, 19.20216751, 29.29567337,  4.95491743, 55.58973694,\n",
       "       39.2492981 , 49.75990677, 23.93645287, 15.68725395,  9.79465961,\n",
       "       15.34934807, 16.35972786, 13.70896053, 27.36770248,  6.17562246,\n",
       "        1.97573256, 32.44982529, 12.5284853 , 14.22037506, 41.26472855,\n",
       "       21.09835243,  9.5007534 , 14.21156788,  7.21410131, 27.22825623,\n",
       "       13.90778255,  2.32840657, 15.76827431,  9.222929  , 21.05971718,\n",
       "       18.79211426, 41.29969025,  6.11762762, 17.88332558,  2.36898184,\n",
       "       22.74928093,  3.11512423, 11.20872498,  2.96734381, 27.87915802,\n",
       "       18.03270912, 11.23315144, 33.10232544, 25.82244682, 19.01928711,\n",
       "       19.3391037 , 34.17329025, 26.20249939,  5.37627792, 14.32674885,\n",
       "        0.        , 18.42962074, 30.58754539, 19.71604538, 35.90357208,\n",
       "       17.51952934, 17.75127792, 24.10941696, 39.22319412,  0.        ,\n",
       "        9.66705894, 27.80001259, 12.52833748, 11.51150894, 19.36662674,\n",
       "       27.70932007, 16.06871223, 10.1885643 , 11.62010384, 21.90014458,\n",
       "        1.19295001,  9.16841316, 17.06359673, 20.08237076, 14.32991791,\n",
       "        3.54345918,  9.83103848, 17.64488411,  6.96894646, 15.53094673,\n",
       "       18.53866386, 13.30786419, 39.77984238,  5.59254408, 14.1377039 ,\n",
       "       18.23759842,  0.        , 34.18914413, 14.28803158, 11.01407909,\n",
       "        0.        , 11.25251389, 29.86983871,  6.40086937,  2.660676  ,\n",
       "       29.78186798,  6.93470478, 25.00276566,  0.        ,  9.64834595,\n",
       "        0.        ,  3.7548573 , 19.83586311, 23.84183121])"
      ]
     },
     "execution_count": 162,
     "metadata": {},
     "output_type": "execute_result"
    }
   ],
   "source": [
    "diff.no_processing.values"
   ]
  },
  {
   "cell_type": "markdown",
   "id": "d32316e4-58e9-456f-ac85-062204cc8aa1",
   "metadata": {},
   "source": [
    "# Ratios"
   ]
  },
  {
   "cell_type": "markdown",
   "id": "c9f7451f-4ddf-486b-9d7c-64d20302515e",
   "metadata": {},
   "source": [
    "# Ratios"
   ]
  },
  {
   "cell_type": "code",
   "execution_count": 146,
   "id": "402a59c0-5025-4498-b427-18edf1df9cdd",
   "metadata": {},
   "outputs": [
    {
     "name": "stderr",
     "output_type": "stream",
     "text": [
      "/tmp/ipykernel_20603/2112843700.py:8: RuntimeWarning: invalid value encountered in double_scalars\n",
      "  \"bbhe\": rows.query('algorithm==\"bbhe\"').score.iloc[0] / np_score,\n",
      "/tmp/ipykernel_20603/2112843700.py:9: RuntimeWarning: invalid value encountered in double_scalars\n",
      "  \"clahe\": rows.query('algorithm==\"clahe\"').score.iloc[0] / np_score,\n",
      "/tmp/ipykernel_20603/2112843700.py:10: RuntimeWarning: invalid value encountered in double_scalars\n",
      "  \"splinet\": rows.query('algorithm==\"splinet\"').score.iloc[0] / np_score,\n",
      "/tmp/ipykernel_20603/2112843700.py:9: RuntimeWarning: divide by zero encountered in double_scalars\n",
      "  \"clahe\": rows.query('algorithm==\"clahe\"').score.iloc[0] / np_score,\n",
      "/tmp/ipykernel_20603/2112843700.py:10: RuntimeWarning: divide by zero encountered in double_scalars\n",
      "  \"splinet\": rows.query('algorithm==\"splinet\"').score.iloc[0] / np_score,\n"
     ]
    },
    {
     "data": {
      "text/html": [
       "<div>\n",
       "<style scoped>\n",
       "    .dataframe tbody tr th:only-of-type {\n",
       "        vertical-align: middle;\n",
       "    }\n",
       "\n",
       "    .dataframe tbody tr th {\n",
       "        vertical-align: top;\n",
       "    }\n",
       "\n",
       "    .dataframe thead th {\n",
       "        text-align: right;\n",
       "    }\n",
       "</style>\n",
       "<table border=\"1\" class=\"dataframe\">\n",
       "  <thead>\n",
       "    <tr style=\"text-align: right;\">\n",
       "      <th></th>\n",
       "      <th>original_filename</th>\n",
       "      <th>bbhe</th>\n",
       "      <th>clahe</th>\n",
       "      <th>splinet</th>\n",
       "      <th>no_processing</th>\n",
       "    </tr>\n",
       "  </thead>\n",
       "  <tbody>\n",
       "    <tr>\n",
       "      <th>0</th>\n",
       "      <td>MuzYhuKsV6.png</td>\n",
       "      <td>1.177665</td>\n",
       "      <td>2.854321</td>\n",
       "      <td>0.160932</td>\n",
       "      <td>5.533060</td>\n",
       "    </tr>\n",
       "    <tr>\n",
       "      <th>1</th>\n",
       "      <td>7OKvzizH.png</td>\n",
       "      <td>0.000000</td>\n",
       "      <td>0.287238</td>\n",
       "      <td>0.000000</td>\n",
       "      <td>8.826059</td>\n",
       "    </tr>\n",
       "    <tr>\n",
       "      <th>2</th>\n",
       "      <td>eD80tfb0.png</td>\n",
       "      <td>1.389202</td>\n",
       "      <td>1.922935</td>\n",
       "      <td>1.107141</td>\n",
       "      <td>17.303408</td>\n",
       "    </tr>\n",
       "    <tr>\n",
       "      <th>3</th>\n",
       "      <td>1UXZfhm4.png</td>\n",
       "      <td>0.188575</td>\n",
       "      <td>0.000000</td>\n",
       "      <td>0.427014</td>\n",
       "      <td>23.146931</td>\n",
       "    </tr>\n",
       "    <tr>\n",
       "      <th>4</th>\n",
       "      <td>VaD7nRZa.png</td>\n",
       "      <td>1.620346</td>\n",
       "      <td>1.934458</td>\n",
       "      <td>1.471132</td>\n",
       "      <td>14.288032</td>\n",
       "    </tr>\n",
       "    <tr>\n",
       "      <th>...</th>\n",
       "      <td>...</td>\n",
       "      <td>...</td>\n",
       "      <td>...</td>\n",
       "      <td>...</td>\n",
       "      <td>...</td>\n",
       "    </tr>\n",
       "    <tr>\n",
       "      <th>194</th>\n",
       "      <td>pqpowjWytV.png</td>\n",
       "      <td>0.626415</td>\n",
       "      <td>1.898603</td>\n",
       "      <td>1.194514</td>\n",
       "      <td>9.648346</td>\n",
       "    </tr>\n",
       "    <tr>\n",
       "      <th>195</th>\n",
       "      <td>1432.png</td>\n",
       "      <td>NaN</td>\n",
       "      <td>inf</td>\n",
       "      <td>inf</td>\n",
       "      <td>0.000000</td>\n",
       "    </tr>\n",
       "    <tr>\n",
       "      <th>196</th>\n",
       "      <td>j1xXEzjl.png</td>\n",
       "      <td>0.696997</td>\n",
       "      <td>6.145118</td>\n",
       "      <td>0.718141</td>\n",
       "      <td>3.754857</td>\n",
       "    </tr>\n",
       "    <tr>\n",
       "      <th>197</th>\n",
       "      <td>tOdxgRa3.png</td>\n",
       "      <td>0.301527</td>\n",
       "      <td>0.000000</td>\n",
       "      <td>0.465244</td>\n",
       "      <td>19.835863</td>\n",
       "    </tr>\n",
       "    <tr>\n",
       "      <th>198</th>\n",
       "      <td>SmVALmIE.png</td>\n",
       "      <td>0.959585</td>\n",
       "      <td>1.033191</td>\n",
       "      <td>0.758820</td>\n",
       "      <td>23.841831</td>\n",
       "    </tr>\n",
       "  </tbody>\n",
       "</table>\n",
       "<p>199 rows × 5 columns</p>\n",
       "</div>"
      ],
      "text/plain": [
       "    original_filename      bbhe     clahe   splinet  no_processing\n",
       "0      MuzYhuKsV6.png  1.177665  2.854321  0.160932       5.533060\n",
       "1        7OKvzizH.png  0.000000  0.287238  0.000000       8.826059\n",
       "2        eD80tfb0.png  1.389202  1.922935  1.107141      17.303408\n",
       "3        1UXZfhm4.png  0.188575  0.000000  0.427014      23.146931\n",
       "4        VaD7nRZa.png  1.620346  1.934458  1.471132      14.288032\n",
       "..                ...       ...       ...       ...            ...\n",
       "194    pqpowjWytV.png  0.626415  1.898603  1.194514       9.648346\n",
       "195          1432.png       NaN       inf       inf       0.000000\n",
       "196      j1xXEzjl.png  0.696997  6.145118  0.718141       3.754857\n",
       "197      tOdxgRa3.png  0.301527  0.000000  0.465244      19.835863\n",
       "198      SmVALmIE.png  0.959585  1.033191  0.758820      23.841831\n",
       "\n",
       "[199 rows x 5 columns]"
      ]
     },
     "execution_count": 146,
     "metadata": {},
     "output_type": "execute_result"
    }
   ],
   "source": [
    "ratios = pd.DataFrame(columns=[\"original_filename\", \"bbhe\", \"clahe\", \"splinet\", \"no_processing\"])\n",
    "# the algorithm columns are deltas compared to no_processing\n",
    "for i, fn in enumerate(fns):\n",
    "    rows = df.query('original_filename==@fn')\n",
    "    np_score = rows[rows.algorithm == \"no_processing\"].score.iloc[0]\n",
    "    result = {\n",
    "        \"original_filename\": fn,\n",
    "        \"bbhe\": rows.query('algorithm==\"bbhe\"').score.iloc[0] / np_score,\n",
    "        \"clahe\": rows.query('algorithm==\"clahe\"').score.iloc[0] / np_score,\n",
    "        \"splinet\": rows.query('algorithm==\"splinet\"').score.iloc[0] / np_score,\n",
    "        \"no_processing\": np_score,\n",
    "    }\n",
    "    ratios = ratios.append(result, ignore_index=True)\n",
    "ratios"
   ]
  },
  {
   "cell_type": "code",
   "execution_count": 147,
   "id": "29d44897-7b74-4d63-a637-4679bb545ce1",
   "metadata": {},
   "outputs": [
    {
     "data": {
      "text/html": [
       "<div>\n",
       "<style scoped>\n",
       "    .dataframe tbody tr th:only-of-type {\n",
       "        vertical-align: middle;\n",
       "    }\n",
       "\n",
       "    .dataframe tbody tr th {\n",
       "        vertical-align: top;\n",
       "    }\n",
       "\n",
       "    .dataframe thead th {\n",
       "        text-align: right;\n",
       "    }\n",
       "</style>\n",
       "<table border=\"1\" class=\"dataframe\">\n",
       "  <thead>\n",
       "    <tr style=\"text-align: right;\">\n",
       "      <th></th>\n",
       "      <th>original_filename</th>\n",
       "      <th>bbhe</th>\n",
       "      <th>clahe</th>\n",
       "      <th>splinet</th>\n",
       "      <th>no_processing</th>\n",
       "    </tr>\n",
       "  </thead>\n",
       "  <tbody>\n",
       "    <tr>\n",
       "      <th>0</th>\n",
       "      <td>MuzYhuKsV6.png</td>\n",
       "      <td>1.177665</td>\n",
       "      <td>2.854321</td>\n",
       "      <td>0.160932</td>\n",
       "      <td>5.533060</td>\n",
       "    </tr>\n",
       "    <tr>\n",
       "      <th>1</th>\n",
       "      <td>7OKvzizH.png</td>\n",
       "      <td>0.000000</td>\n",
       "      <td>0.287238</td>\n",
       "      <td>0.000000</td>\n",
       "      <td>8.826059</td>\n",
       "    </tr>\n",
       "    <tr>\n",
       "      <th>2</th>\n",
       "      <td>eD80tfb0.png</td>\n",
       "      <td>1.389202</td>\n",
       "      <td>1.922935</td>\n",
       "      <td>1.107141</td>\n",
       "      <td>17.303408</td>\n",
       "    </tr>\n",
       "    <tr>\n",
       "      <th>3</th>\n",
       "      <td>1UXZfhm4.png</td>\n",
       "      <td>0.188575</td>\n",
       "      <td>0.000000</td>\n",
       "      <td>0.427014</td>\n",
       "      <td>23.146931</td>\n",
       "    </tr>\n",
       "    <tr>\n",
       "      <th>4</th>\n",
       "      <td>VaD7nRZa.png</td>\n",
       "      <td>1.620346</td>\n",
       "      <td>1.934458</td>\n",
       "      <td>1.471132</td>\n",
       "      <td>14.288032</td>\n",
       "    </tr>\n",
       "    <tr>\n",
       "      <th>...</th>\n",
       "      <td>...</td>\n",
       "      <td>...</td>\n",
       "      <td>...</td>\n",
       "      <td>...</td>\n",
       "      <td>...</td>\n",
       "    </tr>\n",
       "    <tr>\n",
       "      <th>192</th>\n",
       "      <td>0AKZCRZA.png</td>\n",
       "      <td>0.347084</td>\n",
       "      <td>0.769213</td>\n",
       "      <td>0.240916</td>\n",
       "      <td>25.002766</td>\n",
       "    </tr>\n",
       "    <tr>\n",
       "      <th>194</th>\n",
       "      <td>pqpowjWytV.png</td>\n",
       "      <td>0.626415</td>\n",
       "      <td>1.898603</td>\n",
       "      <td>1.194514</td>\n",
       "      <td>9.648346</td>\n",
       "    </tr>\n",
       "    <tr>\n",
       "      <th>196</th>\n",
       "      <td>j1xXEzjl.png</td>\n",
       "      <td>0.696997</td>\n",
       "      <td>6.145118</td>\n",
       "      <td>0.718141</td>\n",
       "      <td>3.754857</td>\n",
       "    </tr>\n",
       "    <tr>\n",
       "      <th>197</th>\n",
       "      <td>tOdxgRa3.png</td>\n",
       "      <td>0.301527</td>\n",
       "      <td>0.000000</td>\n",
       "      <td>0.465244</td>\n",
       "      <td>19.835863</td>\n",
       "    </tr>\n",
       "    <tr>\n",
       "      <th>198</th>\n",
       "      <td>SmVALmIE.png</td>\n",
       "      <td>0.959585</td>\n",
       "      <td>1.033191</td>\n",
       "      <td>0.758820</td>\n",
       "      <td>23.841831</td>\n",
       "    </tr>\n",
       "  </tbody>\n",
       "</table>\n",
       "<p>186 rows × 5 columns</p>\n",
       "</div>"
      ],
      "text/plain": [
       "    original_filename      bbhe     clahe   splinet  no_processing\n",
       "0      MuzYhuKsV6.png  1.177665  2.854321  0.160932       5.533060\n",
       "1        7OKvzizH.png  0.000000  0.287238  0.000000       8.826059\n",
       "2        eD80tfb0.png  1.389202  1.922935  1.107141      17.303408\n",
       "3        1UXZfhm4.png  0.188575  0.000000  0.427014      23.146931\n",
       "4        VaD7nRZa.png  1.620346  1.934458  1.471132      14.288032\n",
       "..                ...       ...       ...       ...            ...\n",
       "192      0AKZCRZA.png  0.347084  0.769213  0.240916      25.002766\n",
       "194    pqpowjWytV.png  0.626415  1.898603  1.194514       9.648346\n",
       "196      j1xXEzjl.png  0.696997  6.145118  0.718141       3.754857\n",
       "197      tOdxgRa3.png  0.301527  0.000000  0.465244      19.835863\n",
       "198      SmVALmIE.png  0.959585  1.033191  0.758820      23.841831\n",
       "\n",
       "[186 rows x 5 columns]"
      ]
     },
     "execution_count": 147,
     "metadata": {},
     "output_type": "execute_result"
    }
   ],
   "source": [
    "filtered_ratios = ratios[~ratios.isin([np.nan, np.inf, -np.inf]).any(1)]\n",
    "filtered_ratios"
   ]
  },
  {
   "cell_type": "code",
   "execution_count": 145,
   "id": "3aec42f9-ac66-445c-897f-4763d5a17764",
   "metadata": {},
   "outputs": [
    {
     "data": {
      "text/plain": [
       "(-0.2, 6.0)"
      ]
     },
     "execution_count": 145,
     "metadata": {},
     "output_type": "execute_result"
    },
    {
     "data": {
      "image/png": "[encoded data removed]",
      "text/plain": [
       "<Figure size 230.4x158.4 with 1 Axes>"
      ]
     },
     "metadata": {
      "needs_background": "light"
     },
     "output_type": "display_data"
    }
   ],
   "source": [
    "algos = [\"bbhe\", \"clahe\", \"splinet\"]\n",
    "plt.figure(figsize=(3.2, 2.2))\n",
    "plt.violinplot(filtered_ratios[algos], showmedians=True)\n",
    "plt.minorticks_on()\n",
    "plt.grid(which=\"major\", zorder=0)\n",
    "plt.grid(which=\"minor\", linestyle=\":\", linewidth=.4, zorder=0)\n",
    "#plt.axhline(color=\"black\", linewidth=1, zorder=1.6)\n",
    "plt.xticks(ticks=range(1, 4), labels=[\"BBHE\", \"CLAHE\", \"SpliNet\"], fontsize=8)\n",
    "plt.xlabel(\"Algorithm\", fontsize=8)\n",
    "plt.ylabel(\"Change in BRISQUE\", fontsize=8)\n",
    "plt.savefig(\"ratios_violin.pdf\")\n",
    "plt.ylim(-.2, 6)"
   ]
  },
  {
   "cell_type": "code",
   "execution_count": null,
   "id": "c05b9543-e604-4a7b-9cd8-700dd901849a",
   "metadata": {},
   "outputs": [],
   "source": []
  }
 ],
 "metadata": {
  "kernelspec": {
   "display_name": "ivp",
   "language": "python",
   "name": "ivp"
  },
  "language_info": {
   "codemirror_mode": {
    "name": "ipython",
    "version": 3
   },
   "file_extension": ".py",
   "mimetype": "text/x-python",
   "name": "python",
   "nbconvert_exporter": "python",
   "pygments_lexer": "ipython3",
   "version": "3.9.7"
  }
 },
 "nbformat": 4,
 "nbformat_minor": 5
}
